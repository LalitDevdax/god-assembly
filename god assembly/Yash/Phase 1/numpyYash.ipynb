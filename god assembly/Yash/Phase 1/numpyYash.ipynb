{
 "cells": [
  {
   "cell_type": "code",
   "execution_count": 1,
   "metadata": {},
   "outputs": [
    {
     "name": "stdout",
     "output_type": "stream",
     "text": [
      "[[ 3  7  1]\n",
      " [10  3  2]\n",
      " [ 5  6  7]]\n",
      "\n",
      "[[ 1  3  7]\n",
      " [ 2  3 10]\n",
      " [ 5  6  7]]\n",
      "\n",
      "[[ 3  3  1]\n",
      " [ 5  6  2]\n",
      " [10  7  7]]\n"
     ]
    }
   ],
   "source": [
    "import numpy as np\n",
    "\n",
    "array = np.array([\n",
    "    [3, 7, 1],\n",
    "    [10, 3, 2],\n",
    "    [5, 6, 7]\n",
    "])\n",
    "print(array)\n",
    "print()\n",
    "\n",
    "# Sorting along each row\n",
    "print(np.sort(array, axis=1))\n",
    "print()\n",
    "\n",
    "# Sorting along each column\n",
    "print(np.sort(array, axis=0))"
   ]
  }
 ],
 "metadata": {
  "kernelspec": {
   "display_name": "Python 3",
   "language": "python",
   "name": "python3"
  },
  "language_info": {
   "codemirror_mode": {
    "name": "ipython",
    "version": 3
   },
   "file_extension": ".py",
   "mimetype": "text/x-python",
   "name": "python",
   "nbconvert_exporter": "python",
   "pygments_lexer": "ipython3",
   "version": "3.12.4"
  }
 },
 "nbformat": 4,
 "nbformat_minor": 2
}
