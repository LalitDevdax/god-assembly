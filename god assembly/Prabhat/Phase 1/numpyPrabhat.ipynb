{
 "cells": [
  {
   "cell_type": "code",
   "execution_count": 1,
   "metadata": {},
   "outputs": [
    {
     "name": "stdout",
     "output_type": "stream",
     "text": [
      "[[19 67 63]\n",
      " [25 84 97]\n",
      " [20 75 95]]\n"
     ]
    }
   ],
   "source": [
    "import numpy as np\n",
    "\n",
    "matrix1 = [\n",
    "    [3, 4, 2],\n",
    "    [5, 1, 8],\n",
    "    [3, 1, 9]\n",
    "]\n",
    "\n",
    "matrix2 = [\n",
    "    [3, 7, 5],\n",
    "    [2, 9, 8],\n",
    "    [1, 5, 8]\n",
    "]\n",
    "\n",
    "result = np.dot(matrix1, matrix2)\n",
    "print(result)"
   ]
  }
 ],
 "metadata": {
  "kernelspec": {
   "display_name": "Python 3",
   "language": "python",
   "name": "python3"
  },
  "language_info": {
   "codemirror_mode": {
    "name": "ipython",
    "version": 3
   },
   "file_extension": ".py",
   "mimetype": "text/x-python",
   "name": "python",
   "nbconvert_exporter": "python",
   "pygments_lexer": "ipython3",
   "version": "3.12.4"
  }
 },
 "nbformat": 4,
 "nbformat_minor": 2
}
